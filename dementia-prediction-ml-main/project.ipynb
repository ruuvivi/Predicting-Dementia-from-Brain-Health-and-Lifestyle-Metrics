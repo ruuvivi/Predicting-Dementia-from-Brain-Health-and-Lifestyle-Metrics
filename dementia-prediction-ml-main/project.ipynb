{
 "cells": [
  {
   "cell_type": "code",
   "execution_count": 1,
   "id": "797a98df-15ad-4189-a50b-db5ee94bed9d",
   "metadata": {
    "tags": []
   },
   "outputs": [
    {
     "ename": "ModuleNotFoundError",
     "evalue": "No module named 'pandas'",
     "output_type": "error",
     "traceback": [
      "\u001b[1;31m---------------------------------------------------------------------------\u001b[0m",
      "\u001b[1;31mModuleNotFoundError\u001b[0m                       Traceback (most recent call last)",
      "Cell \u001b[1;32mIn[1], line 1\u001b[0m\n\u001b[1;32m----> 1\u001b[0m \u001b[38;5;28;01mimport\u001b[39;00m \u001b[38;5;21;01mpandas\u001b[39;00m \u001b[38;5;28;01mas\u001b[39;00m \u001b[38;5;21;01mpd\u001b[39;00m\n\u001b[0;32m      2\u001b[0m \u001b[38;5;28;01mimport\u001b[39;00m \u001b[38;5;21;01mmatplotlib\u001b[39;00m\u001b[38;5;21;01m.\u001b[39;00m\u001b[38;5;21;01mpyplot\u001b[39;00m \u001b[38;5;28;01mas\u001b[39;00m \u001b[38;5;21;01mplt\u001b[39;00m\n\u001b[0;32m      3\u001b[0m \u001b[38;5;28;01mimport\u001b[39;00m \u001b[38;5;21;01mnumpy\u001b[39;00m \u001b[38;5;28;01mas\u001b[39;00m \u001b[38;5;21;01mnp\u001b[39;00m\n",
      "\u001b[1;31mModuleNotFoundError\u001b[0m: No module named 'pandas'"
     ]
    }
   ],
   "source": [
    "import pandas as pd\n",
    "import matplotlib.pyplot as plt\n",
    "import numpy as np\n",
    "from sklearn.model_selection import train_test_split, KFold, cross_val_score, StratifiedKFold\n",
    "from sklearn.ensemble import RandomForestClassifier\n",
    "from sklearn.metrics import accuracy_score, classification_report, mean_squared_error, confusion_matrix, ConfusionMatrixDisplay, precision_recall_curve\n",
    "from sklearn.linear_model import LogisticRegression\n",
    "import seaborn as sns"
   ]
  },
  {
   "cell_type": "code",
   "execution_count": null,
   "id": "41270375-af58-47da-9314-4ce8da40de6f",
   "metadata": {
    "tags": []
   },
   "outputs": [],
   "source": [
    "# Get data\n",
    "# for some reason pandas reads some str values as float\n",
    "dtype = {\n",
    "    'age': np.int64\n",
    "}\n",
    "binary_features = ['gender', 'diabetes', 'hypertension', 'hypercholesterolemia', 'smoking', 'Lacunes_Presence', 'CMB_Presence', 'fazekas_cat']            \n",
    "for n in binary_features:\n",
    "    dtype[n] = str\n",
    "\n",
    "data = pd.read_csv(\"main.csv\", sep=\",\", dtype=dtype)"
   ]
  },
  {
   "cell_type": "code",
   "execution_count": null,
   "id": "9eadb4f0-9a19-47a9-8751-9a456b9a68d1",
   "metadata": {
    "tags": []
   },
   "outputs": [
    {
     "data": {
      "text/html": [
       "<div>\n",
       "<style scoped>\n",
       "    .dataframe tbody tr th:only-of-type {\n",
       "        vertical-align: middle;\n",
       "    }\n",
       "\n",
       "    .dataframe tbody tr th {\n",
       "        vertical-align: top;\n",
       "    }\n",
       "\n",
       "    .dataframe thead th {\n",
       "        text-align: right;\n",
       "    }\n",
       "</style>\n",
       "<table border=\"1\" class=\"dataframe\">\n",
       "  <thead>\n",
       "    <tr style=\"text-align: right;\">\n",
       "      <th></th>\n",
       "      <th>age</th>\n",
       "      <th>gender</th>\n",
       "      <th>dementia</th>\n",
       "      <th>dementia_all</th>\n",
       "      <th>diabetes</th>\n",
       "      <th>hypertension</th>\n",
       "      <th>hypercholesterolemia</th>\n",
       "      <th>smoking</th>\n",
       "      <th>EF</th>\n",
       "      <th>PS</th>\n",
       "      <th>Global</th>\n",
       "      <th>Lacunes_Presence</th>\n",
       "      <th>CMB_Presence</th>\n",
       "      <th>Fazekas</th>\n",
       "      <th>fazekas_cat</th>\n",
       "      <th>study_Name</th>\n",
       "      <th>SVD Simple Score</th>\n",
       "      <th>SVD Amended Score</th>\n",
       "      <th>lac_count</th>\n",
       "    </tr>\n",
       "  </thead>\n",
       "  <tbody>\n",
       "    <tr>\n",
       "      <th>0</th>\n",
       "      <td>54</td>\n",
       "      <td>male</td>\n",
       "      <td>no</td>\n",
       "      <td>no</td>\n",
       "      <td>no</td>\n",
       "      <td>No</td>\n",
       "      <td>Yes</td>\n",
       "      <td>Quit</td>\n",
       "      <td>0.620000</td>\n",
       "      <td>0.220000</td>\n",
       "      <td>0.746667</td>\n",
       "      <td>Absent</td>\n",
       "      <td>Absent</td>\n",
       "      <td>1</td>\n",
       "      <td>0 to 1</td>\n",
       "      <td>Geriatric Population Study</td>\n",
       "      <td>NaN</td>\n",
       "      <td>NaN</td>\n",
       "      <td>Zero</td>\n",
       "    </tr>\n",
       "    <tr>\n",
       "      <th>1</th>\n",
       "      <td>70</td>\n",
       "      <td>male</td>\n",
       "      <td>no</td>\n",
       "      <td>no</td>\n",
       "      <td>no</td>\n",
       "      <td>Yes</td>\n",
       "      <td>Yes</td>\n",
       "      <td>Quit</td>\n",
       "      <td>NaN</td>\n",
       "      <td>NaN</td>\n",
       "      <td>NaN</td>\n",
       "      <td>Present</td>\n",
       "      <td>Absent</td>\n",
       "      <td>3</td>\n",
       "      <td>2 to 3</td>\n",
       "      <td>Cerebrovascular Study</td>\n",
       "      <td>2.0</td>\n",
       "      <td>5.0</td>\n",
       "      <td>3 to 5</td>\n",
       "    </tr>\n",
       "    <tr>\n",
       "      <th>2</th>\n",
       "      <td>58</td>\n",
       "      <td>female</td>\n",
       "      <td>no</td>\n",
       "      <td>no</td>\n",
       "      <td>no</td>\n",
       "      <td>No</td>\n",
       "      <td>Yes</td>\n",
       "      <td>NaN</td>\n",
       "      <td>0.290000</td>\n",
       "      <td>0.050000</td>\n",
       "      <td>0.196667</td>\n",
       "      <td>Absent</td>\n",
       "      <td>Absent</td>\n",
       "      <td>0</td>\n",
       "      <td>0 to 1</td>\n",
       "      <td>Geriatric Population Study</td>\n",
       "      <td>0.0</td>\n",
       "      <td>0.0</td>\n",
       "      <td>Zero</td>\n",
       "    </tr>\n",
       "    <tr>\n",
       "      <th>3</th>\n",
       "      <td>58</td>\n",
       "      <td>male</td>\n",
       "      <td>no</td>\n",
       "      <td>no</td>\n",
       "      <td>no</td>\n",
       "      <td>Yes</td>\n",
       "      <td>Yes</td>\n",
       "      <td>Smoker</td>\n",
       "      <td>0.510000</td>\n",
       "      <td>0.210000</td>\n",
       "      <td>0.626667</td>\n",
       "      <td>Absent</td>\n",
       "      <td>Absent</td>\n",
       "      <td>1</td>\n",
       "      <td>0 to 1</td>\n",
       "      <td>ASPS Family Study</td>\n",
       "      <td>0.0</td>\n",
       "      <td>0.0</td>\n",
       "      <td>Zero</td>\n",
       "    </tr>\n",
       "    <tr>\n",
       "      <th>4</th>\n",
       "      <td>53</td>\n",
       "      <td>male</td>\n",
       "      <td>no</td>\n",
       "      <td>no</td>\n",
       "      <td>no</td>\n",
       "      <td>No</td>\n",
       "      <td>No</td>\n",
       "      <td>Smoker</td>\n",
       "      <td>-0.327058</td>\n",
       "      <td>0.184665</td>\n",
       "      <td>-0.260674</td>\n",
       "      <td>Absent</td>\n",
       "      <td>Absent</td>\n",
       "      <td>1</td>\n",
       "      <td>0 to 1</td>\n",
       "      <td>Cerebrovascular Study</td>\n",
       "      <td>0.0</td>\n",
       "      <td>1.0</td>\n",
       "      <td>Zero</td>\n",
       "    </tr>\n",
       "  </tbody>\n",
       "</table>\n",
       "</div>"
      ],
      "text/plain": [
       "   age  gender dementia dementia_all diabetes hypertension  \\\n",
       "0   54    male       no           no       no           No   \n",
       "1   70    male       no           no       no          Yes   \n",
       "2   58  female       no           no       no           No   \n",
       "3   58    male       no           no       no          Yes   \n",
       "4   53    male       no           no       no           No   \n",
       "\n",
       "  hypercholesterolemia smoking        EF        PS    Global Lacunes_Presence  \\\n",
       "0                  Yes    Quit  0.620000  0.220000  0.746667           Absent   \n",
       "1                  Yes    Quit       NaN       NaN       NaN          Present   \n",
       "2                  Yes     NaN  0.290000  0.050000  0.196667           Absent   \n",
       "3                  Yes  Smoker  0.510000  0.210000  0.626667           Absent   \n",
       "4                   No  Smoker -0.327058  0.184665 -0.260674           Absent   \n",
       "\n",
       "  CMB_Presence  Fazekas fazekas_cat                  study_Name  \\\n",
       "0       Absent        1      0 to 1  Geriatric Population Study   \n",
       "1       Absent        3      2 to 3       Cerebrovascular Study   \n",
       "2       Absent        0      0 to 1  Geriatric Population Study   \n",
       "3       Absent        1      0 to 1           ASPS Family Study   \n",
       "4       Absent        1      0 to 1       Cerebrovascular Study   \n",
       "\n",
       "   SVD Simple Score  SVD Amended Score lac_count  \n",
       "0               NaN                NaN      Zero  \n",
       "1               2.0                5.0    3 to 5  \n",
       "2               0.0                0.0      Zero  \n",
       "3               0.0                0.0      Zero  \n",
       "4               0.0                1.0      Zero  "
      ]
     },
     "execution_count": 363,
     "metadata": {},
     "output_type": "execute_result"
    }
   ],
   "source": [
    "# Check data\n",
    "data.head()"
   ]
  },
  {
   "cell_type": "code",
   "execution_count": null,
   "id": "af873f4d-41c3-42ef-9606-53492187418f",
   "metadata": {
    "tags": []
   },
   "outputs": [
    {
     "name": "stdout",
     "output_type": "stream",
     "text": [
      "<class 'pandas.core.frame.DataFrame'>\n",
      "RangeIndex: 1830 entries, 0 to 1829\n",
      "Data columns (total 19 columns):\n",
      " #   Column                Non-Null Count  Dtype  \n",
      "---  ------                --------------  -----  \n",
      " 0   age                   1830 non-null   int64  \n",
      " 1   gender                1830 non-null   object \n",
      " 2   dementia              1796 non-null   object \n",
      " 3   dementia_all          1830 non-null   object \n",
      " 4   diabetes              1830 non-null   object \n",
      " 5   hypertension          1830 non-null   object \n",
      " 6   hypercholesterolemia  1830 non-null   object \n",
      " 7   smoking               925 non-null    object \n",
      " 8   EF                    1624 non-null   float64\n",
      " 9   PS                    1564 non-null   float64\n",
      " 10  Global                1524 non-null   float64\n",
      " 11  Lacunes_Presence      1830 non-null   object \n",
      " 12  CMB_Presence          1830 non-null   object \n",
      " 13  Fazekas               1830 non-null   int64  \n",
      " 14  fazekas_cat           1830 non-null   object \n",
      " 15  study_Name            1830 non-null   object \n",
      " 16  SVD Simple Score      1157 non-null   float64\n",
      " 17  SVD Amended Score     1157 non-null   float64\n",
      " 18  lac_count             1830 non-null   object \n",
      "dtypes: float64(5), int64(2), object(12)\n",
      "memory usage: 271.8+ KB\n"
     ]
    }
   ],
   "source": [
    "data.info()"
   ]
  },
  {
   "cell_type": "code",
   "execution_count": null,
   "id": "63e65326-1bda-41a8-899a-e9bb04186b3a",
   "metadata": {
    "tags": []
   },
   "outputs": [
    {
     "name": "stdout",
     "output_type": "stream",
     "text": [
      "Mean age: 65.97213114754098\n",
      "Null values:\n",
      " age                       0\n",
      "gender                    0\n",
      "dementia                 34\n",
      "dementia_all              0\n",
      "diabetes                  0\n",
      "hypertension              0\n",
      "hypercholesterolemia      0\n",
      "smoking                 905\n",
      "EF                      206\n",
      "PS                      266\n",
      "Global                  306\n",
      "Lacunes_Presence          0\n",
      "CMB_Presence              0\n",
      "Fazekas                   0\n",
      "fazekas_cat               0\n",
      "study_Name                0\n",
      "SVD Simple Score        673\n",
      "SVD Amended Score       673\n",
      "lac_count                 0\n",
      "dtype: int64\n"
     ]
    }
   ],
   "source": [
    "print(\"Mean age:\", data[\"age\"].describe()['mean'])\n",
    "print(\"Null values:\\n\", data.isnull().sum())"
   ]
  },
  {
   "cell_type": "code",
   "execution_count": null,
   "id": "265ff2d6-195e-4598-9500-423d161d5aaf",
   "metadata": {
    "tags": []
   },
   "outputs": [
    {
     "data": {
      "image/png": "[encoded data removed]",
      "text/plain": [
       "<Figure size 640x480 with 4 Axes>"
      ]
     },
     "metadata": {},
     "output_type": "display_data"
    }
   ],
   "source": [
    "bins = [6, 10, 15, 20]\n",
    "fig, axs = plt.subplots(2, 2, sharey=True, tight_layout=True)\n",
    "i = 0\n",
    "for ax in axs:\n",
    "    for a in ax:\n",
    "        a.hist(data['age'], bins=bins[i])\n",
    "        a.set_title(f\"{bins[i]} bins\")\n",
    "        i += 1"
   ]
  },
  {
   "cell_type": "markdown",
   "id": "d6b1e5c6-183c-4327-8b12-464a1bfbc0d2",
   "metadata": {},
   "source": [
    "# Data preprocessing"
   ]
  },
  {
   "cell_type": "code",
   "execution_count": null,
   "id": "ce420305-d252-419c-9eae-798bc8607061",
   "metadata": {
    "tags": []
   },
   "outputs": [
    {
     "data": {
      "text/plain": [
       "Index(['age', 'gender', 'dementia', 'dementia_all', 'diabetes', 'hypertension',\n",
       "       'hypercholesterolemia', 'smoking', 'Lacunes_Presence', 'CMB_Presence',\n",
       "       'fazekas_cat', 'study_Name'],\n",
       "      dtype='object')"
      ]
     },
     "execution_count": 367,
     "metadata": {},
     "output_type": "execute_result"
    }
   ],
   "source": [
    "# Drop null values from dementia\n",
    "data.dropna(subset = ['dementia'], inplace=True)\n",
    "\n",
    "# Smoking contains null values, set these to None\n",
    "data.loc[:, 'smoking'].fillna('None', inplace=True)\n",
    "\n",
    "#Drop unused labels\n",
    "data = data.drop(columns=['EF', 'PS', 'Global', 'Fazekas', 'SVD Simple Score', 'SVD Amended Score', 'lac_count'])\n",
    "\n",
    "# Binaries from yes/no to 1/0\n",
    "for n in binary_features:\n",
    "    if n == 'smoking':\n",
    "        data['smoking'] = data['smoking'].replace({'Quit':0,'Smoker':1, 'None': 0}).astype(int)\n",
    "    elif n == 'gender':\n",
    "        data['gender'] = data['gender'].replace({'female': 0, 'male': 1})\n",
    "    elif n == 'fazekas_cat':\n",
    "        data['fazekas_cat'] = data['fazekas_cat'].replace({'0 to 1':0,'2 to 3':1}).astype(int)\n",
    "    data[n] = data[n].replace({'No':0,'Yes':1, 'no':0,'yes':1, 'Absent':0,'Present':1}).astype(int)\n",
    "data['dementia'] = data['dementia'].replace({'no': 0, 'yes': 1})\n",
    "data.columns"
   ]
  },
  {
   "cell_type": "code",
   "execution_count": null,
   "id": "e4265f56-c83d-4b70-b619-b24d6f7aab8f",
   "metadata": {
    "tags": []
   },
   "outputs": [],
   "source": [
    "features = ['age', 'gender', 'diabetes', 'hypertension', 'hypercholesterolemia', 'smoking', 'Lacunes_Presence', 'CMB_Presence', 'fazekas_cat']   \n",
    "x = data[features]\n",
    "y = data['dementia']"
   ]
  },
  {
   "cell_type": "code",
   "execution_count": null,
   "id": "634db5fc-103e-473b-a47e-f7f6e27fd190",
   "metadata": {
    "tags": []
   },
   "outputs": [],
   "source": [
    "x_train, x_test, y_train, y_test = train_test_split(x, y, test_size=0.2, random_state=42)"
   ]
  },
  {
   "cell_type": "markdown",
   "id": "43b749e6-592a-4f65-a1c7-5b8c6ab7102c",
   "metadata": {},
   "source": [
    "# Random Forest Classifier"
   ]
  },
  {
   "cell_type": "code",
   "execution_count": null,
   "id": "50734433-199f-4826-8735-5cee1661e445",
   "metadata": {
    "tags": []
   },
   "outputs": [
    {
     "name": "stdout",
     "output_type": "stream",
     "text": [
      "Cross-validation scores for each fold:  [0.94047619 0.96031746 0.92031873 0.96414343 0.94023904]\n",
      "Mean cross-validation score:  0.9450989692025548\n",
      "Training Accuracy: 98.49%, Training Error: 1.51%\n",
      "Validation Accuracy: 94.81%, Validation Error: 5.19%\n",
      "              precision    recall  f1-score   support\n",
      "\n",
      "           0       0.96      0.99      0.97       513\n",
      "           1       0.38      0.12      0.18        26\n",
      "\n",
      "    accuracy                           0.95       539\n",
      "   macro avg       0.67      0.55      0.57       539\n",
      "weighted avg       0.93      0.95      0.93       539\n",
      "\n"
     ]
    }
   ],
   "source": [
    "rfc = RandomForestClassifier(n_estimators=100, random_state=42)\n",
    "rfc.fit(x_train, y_train)\n",
    "\n",
    "y_pred = rfc.predict(x_test)\n",
    "\n",
    "# Set up k-fold cross-validation, k = 5\n",
    "kf = KFold(n_splits=5, shuffle=True, random_state=42)\n",
    "\n",
    "# Perform k-fold cross-validation on the training set. Runs the model training and evaluation for each fold\n",
    "cv_results = cross_val_score(rfc, x_train, y_train, cv=kf)\n",
    "\n",
    "y_train_pred = rfc.predict(x_train)\n",
    "\n",
    "# Calculate training accuracy and training error\n",
    "train_accuracy = accuracy_score(y_train, y_train_pred)\n",
    "train_error = 1 - train_accuracy\n",
    "\n",
    "accuracy = accuracy_score(y_test, y_pred)\n",
    "validation_error = 1 - accuracy # = test error\n",
    "\n",
    "# Print the cross-validation scores for each fold and the mean score\n",
    "print(\"Cross-validation scores for each fold: \", cv_results)\n",
    "print(\"Mean cross-validation score: \", cv_results.mean())\n",
    "print(f\"Training Accuracy: {100 * train_accuracy:.2f}%, Training Error: {100 * train_error:.2f}%\")\n",
    "print(f\"Validation Accuracy: {100 * accuracy:.2f}%, Validation Error: {100 * validation_error:.2f}%\")\n",
    "\n",
    "classification_rep = classification_report(y_test, y_pred)\n",
    "print(classification_rep)"
   ]
  },
  {
   "cell_type": "markdown",
   "id": "4adcef33-43d0-4fbb-9de2-3451280c6735",
   "metadata": {},
   "source": [
    "# Logistic Regression"
   ]
  },
  {
   "cell_type": "code",
   "execution_count": null,
   "id": "0567d16d-6355-4509-98e3-d7f713f8c5ec",
   "metadata": {
    "tags": []
   },
   "outputs": [
    {
     "name": "stdout",
     "output_type": "stream",
     "text": [
      "Cross-validation scores for each fold:  [0.94047619 0.96031746 0.92031873 0.96414343 0.94023904]\n",
      "Mean cross-validation score:  0.9450989692025548\n",
      "Training Accuracy: 95.62%, Training Error: 4.38%\n",
      "Validation Accuracy: 95.18%, Validation Error: 4.82%\n",
      "              precision    recall  f1-score   support\n",
      "\n",
      "           0       0.95      1.00      0.98       513\n",
      "           1       0.00      0.00      0.00        26\n",
      "\n",
      "    accuracy                           0.95       539\n",
      "   macro avg       0.48      0.50      0.49       539\n",
      "weighted avg       0.91      0.95      0.93       539\n",
      "\n"
     ]
    },
    {
     "name": "stderr",
     "output_type": "stream",
     "text": [
      "/opt/software/lib/python3.10/site-packages/sklearn/metrics/_classification.py:1471: UndefinedMetricWarning: Precision and F-score are ill-defined and being set to 0.0 in labels with no predicted samples. Use `zero_division` parameter to control this behavior.\n",
      "  _warn_prf(average, modifier, msg_start, len(result))\n",
      "/opt/software/lib/python3.10/site-packages/sklearn/metrics/_classification.py:1471: UndefinedMetricWarning: Precision and F-score are ill-defined and being set to 0.0 in labels with no predicted samples. Use `zero_division` parameter to control this behavior.\n",
      "  _warn_prf(average, modifier, msg_start, len(result))\n",
      "/opt/software/lib/python3.10/site-packages/sklearn/metrics/_classification.py:1471: UndefinedMetricWarning: Precision and F-score are ill-defined and being set to 0.0 in labels with no predicted samples. Use `zero_division` parameter to control this behavior.\n",
      "  _warn_prf(average, modifier, msg_start, len(result))\n"
     ]
    }
   ],
   "source": [
    "clf = LogisticRegression(random_state=0)\n",
    "clf.fit(x_train, y_train)\n",
    "\n",
    "y_pred_clf = clf.predict(x_test)\n",
    "\n",
    "clf_accuracy = accuracy_score(y_test, y_pred_clf)\n",
    "clf_validation_error = 1 - clf_accuracy # = test error\n",
    "\n",
    "# Set up k-fold cross-validation, k = 5. Shuffles data before splitting to ensure randomness.\n",
    "k_f = KFold(n_splits=5, shuffle=True, random_state=42)\n",
    "\n",
    "# Perform k-fold cross-validation on the training set\n",
    "cvresults = cross_val_score(rfc, x_train, y_train, cv=k_f)\n",
    "\n",
    "y_train_pred = clf.predict(x_train)\n",
    "\n",
    "train_accuracy = accuracy_score(y_train, y_train_pred)\n",
    "train_error = 1 - train_accuracy\n",
    "\n",
    "# Print the cross-validation scores for each fold and the mean score\n",
    "print(\"Cross-validation scores for each fold: \", cvresults)\n",
    "print(\"Mean cross-validation score: \", cvresults.mean())\n",
    "print(f\"Training Accuracy: {100 * train_accuracy:.2f}%, Training Error: {100 * train_error:.2f}%\")\n",
    "print(f\"Validation Accuracy: {100 * clf_accuracy:.2f}%, Validation Error: {100 * clf_validation_error:.2f}%\")\n",
    "\n",
    "clf_classification_rep = classification_report(y_test, y_pred_clf, zero_division=0)\n",
    "print(clf_classification_rep)"
   ]
  },
  {
   "cell_type": "markdown",
   "id": "dd651a10-66d5-44bf-82f5-c5586c6f4084",
   "metadata": {},
   "source": [
    "# Result analysis"
   ]
  },
  {
   "cell_type": "code",
   "execution_count": null,
   "id": "0323f438-103a-4054-a8ac-d2a6019c9a15",
   "metadata": {
    "tags": []
   },
   "outputs": [
    {
     "name": "stdout",
     "output_type": "stream",
     "text": [
      "Dementia in all data: 81\n",
      "Dementia in test data: 26\n",
      "Dementia in train data:55\n",
      "Dementia percentage: 4.51%\n"
     ]
    }
   ],
   "source": [
    "all = len(data.loc[data['dementia']==1])\n",
    "print(f\"Dementia in all data: {all}\")\n",
    "print(f\"Dementia in test data: {len(y_test.loc[y_test == 1])}\")\n",
    "print(f\"Dementia in train data:{len(y_train.loc[y_train == 1])}\")\n",
    "per = all/len(data)*100\n",
    "print(f\"Dementia percentage: {per:.2f}%\")"
   ]
  },
  {
   "cell_type": "markdown",
   "id": "1f10d050-1837-4746-ad98-9446217f4ba5",
   "metadata": {},
   "source": [
    "## Confusion matrix"
   ]
  },
  {
   "cell_type": "code",
   "execution_count": null,
   "id": "a38adb06-8874-4f56-9984-ddee165c916c",
   "metadata": {
    "tags": []
   },
   "outputs": [
    {
     "data": {
      "image/png": "[encoded data removed]",
      "text/plain": [
       "<Figure size 1500x500 with 4 Axes>"
      ]
     },
     "metadata": {},
     "output_type": "display_data"
    }
   ],
   "source": [
    "fig, axs = plt.subplots(1,2, figsize=(15,5))\n",
    "ConfusionMatrixDisplay.from_predictions(y_test, y_pred, ax=axs[0], cmap='spring')\n",
    "ConfusionMatrixDisplay.from_predictions(y_test, y_pred_clf, ax=axs[1], cmap='spring')\n",
    "axs[0].set_title('Random Forest Classifier')\n",
    "axs[1].set_title('Logistic Regression')\n",
    "plt.show()"
   ]
  },
  {
   "cell_type": "markdown",
   "id": "a431b0cd-1f81-437e-8bd1-03a18beaaaef",
   "metadata": {},
   "source": [
    "## Feature Importances\n",
    "This shows the correlation of features to dementia"
   ]
  },
  {
   "cell_type": "code",
   "execution_count": null,
   "id": "d13436c3-b992-4b51-8873-986584a07a9f",
   "metadata": {
    "tags": []
   },
   "outputs": [
    {
     "data": {
      "image/png": "[encoded data removed]",
      "text/plain": [
       "<Figure size 640x480 with 1 Axes>"
      ]
     },
     "metadata": {},
     "output_type": "display_data"
    }
   ],
   "source": [
    "pd.Series(rfc.feature_importances_, index=x.columns).plot(kind='barh', title='Feature importances', colormap='spring')\n",
    "plt.show()"
   ]
  },
  {
   "cell_type": "markdown",
   "id": "22aa062b-aaae-4f40-9ea9-b4f78a0175c2",
   "metadata": {},
   "source": [
    "## Tree"
   ]
  },
  {
   "cell_type": "code",
   "execution_count": null,
   "id": "a9d98ef5-888d-471e-a832-5771a4937470",
   "metadata": {
    "tags": []
   },
   "outputs": [
    {
     "ename": "IndexError",
     "evalue": "index 1 is out of bounds for axis 0 with size 1",
     "output_type": "error",
     "traceback": [
      "\u001b[0;31m---------------------------------------------------------------------------\u001b[0m",
      "\u001b[0;31mIndexError\u001b[0m                                Traceback (most recent call last)",
      "Cell \u001b[0;32mIn[375], line 5\u001b[0m\n\u001b[1;32m      3\u001b[0m \u001b[38;5;28;01mfrom\u001b[39;00m \u001b[38;5;21;01msklearn\u001b[39;00m\u001b[38;5;21;01m.\u001b[39;00m\u001b[38;5;21;01mtree\u001b[39;00m \u001b[38;5;28;01mimport\u001b[39;00m export_graphviz\n\u001b[1;32m      4\u001b[0m \u001b[38;5;66;03m# Export as dot file\u001b[39;00m\n\u001b[0;32m----> 5\u001b[0m \u001b[43mexport_graphviz\u001b[49m\u001b[43m(\u001b[49m\u001b[43mestimator\u001b[49m\u001b[43m,\u001b[49m\u001b[43m \u001b[49m\u001b[43mout_file\u001b[49m\u001b[38;5;241;43m=\u001b[39;49m\u001b[38;5;124;43m'\u001b[39;49m\u001b[38;5;124;43mtree.dot\u001b[39;49m\u001b[38;5;124;43m'\u001b[39;49m\u001b[43m,\u001b[49m\u001b[43m \u001b[49m\n\u001b[1;32m      6\u001b[0m \u001b[43m                \u001b[49m\u001b[43mfeature_names\u001b[49m\u001b[43m \u001b[49m\u001b[38;5;241;43m=\u001b[39;49m\u001b[43m \u001b[49m\u001b[43mfeatures\u001b[49m\u001b[43m,\u001b[49m\n\u001b[1;32m      7\u001b[0m \u001b[43m                \u001b[49m\u001b[43mclass_names\u001b[49m\u001b[43m \u001b[49m\u001b[38;5;241;43m=\u001b[39;49m\u001b[43m \u001b[49m\u001b[43m[\u001b[49m\u001b[38;5;124;43m'\u001b[39;49m\u001b[38;5;124;43mdementia\u001b[39;49m\u001b[38;5;124;43m'\u001b[39;49m\u001b[43m]\u001b[49m\u001b[43m,\u001b[49m\n\u001b[1;32m      8\u001b[0m \u001b[43m                \u001b[49m\u001b[43mrounded\u001b[49m\u001b[43m \u001b[49m\u001b[38;5;241;43m=\u001b[39;49m\u001b[43m \u001b[49m\u001b[38;5;28;43;01mTrue\u001b[39;49;00m\u001b[43m,\u001b[49m\u001b[43m \u001b[49m\u001b[43mproportion\u001b[49m\u001b[43m \u001b[49m\u001b[38;5;241;43m=\u001b[39;49m\u001b[43m \u001b[49m\u001b[38;5;28;43;01mFalse\u001b[39;49;00m\u001b[43m,\u001b[49m\u001b[43m \u001b[49m\n\u001b[1;32m      9\u001b[0m \u001b[43m                \u001b[49m\u001b[43mprecision\u001b[49m\u001b[43m \u001b[49m\u001b[38;5;241;43m=\u001b[39;49m\u001b[43m \u001b[49m\u001b[38;5;241;43m2\u001b[39;49m\u001b[43m,\u001b[49m\u001b[43m \u001b[49m\u001b[43mfilled\u001b[49m\u001b[43m \u001b[49m\u001b[38;5;241;43m=\u001b[39;49m\u001b[43m \u001b[49m\u001b[38;5;28;43;01mTrue\u001b[39;49;00m\u001b[43m,\u001b[49m\u001b[43m \u001b[49m\u001b[43mmax_depth\u001b[49m\u001b[38;5;241;43m=\u001b[39;49m\u001b[38;5;241;43m3\u001b[39;49m\u001b[43m)\u001b[49m\n\u001b[1;32m     11\u001b[0m \u001b[38;5;66;03m# Convert to png using system command (requires Graphviz)\u001b[39;00m\n\u001b[1;32m     12\u001b[0m \u001b[38;5;28;01mfrom\u001b[39;00m \u001b[38;5;21;01msubprocess\u001b[39;00m \u001b[38;5;28;01mimport\u001b[39;00m call\n",
      "File \u001b[0;32m/opt/software/lib/python3.10/site-packages/sklearn/utils/_param_validation.py:214\u001b[0m, in \u001b[0;36mvalidate_params.<locals>.decorator.<locals>.wrapper\u001b[0;34m(*args, **kwargs)\u001b[0m\n\u001b[1;32m    208\u001b[0m \u001b[38;5;28;01mtry\u001b[39;00m:\n\u001b[1;32m    209\u001b[0m     \u001b[38;5;28;01mwith\u001b[39;00m config_context(\n\u001b[1;32m    210\u001b[0m         skip_parameter_validation\u001b[38;5;241m=\u001b[39m(\n\u001b[1;32m    211\u001b[0m             prefer_skip_nested_validation \u001b[38;5;129;01mor\u001b[39;00m global_skip_validation\n\u001b[1;32m    212\u001b[0m         )\n\u001b[1;32m    213\u001b[0m     ):\n\u001b[0;32m--> 214\u001b[0m         \u001b[38;5;28;01mreturn\u001b[39;00m \u001b[43mfunc\u001b[49m\u001b[43m(\u001b[49m\u001b[38;5;241;43m*\u001b[39;49m\u001b[43margs\u001b[49m\u001b[43m,\u001b[49m\u001b[43m \u001b[49m\u001b[38;5;241;43m*\u001b[39;49m\u001b[38;5;241;43m*\u001b[39;49m\u001b[43mkwargs\u001b[49m\u001b[43m)\u001b[49m\n\u001b[1;32m    215\u001b[0m \u001b[38;5;28;01mexcept\u001b[39;00m InvalidParameterError \u001b[38;5;28;01mas\u001b[39;00m e:\n\u001b[1;32m    216\u001b[0m     \u001b[38;5;66;03m# When the function is just a wrapper around an estimator, we allow\u001b[39;00m\n\u001b[1;32m    217\u001b[0m     \u001b[38;5;66;03m# the function to delegate validation to the estimator, but we replace\u001b[39;00m\n\u001b[1;32m    218\u001b[0m     \u001b[38;5;66;03m# the name of the estimator by the name of the function in the error\u001b[39;00m\n\u001b[1;32m    219\u001b[0m     \u001b[38;5;66;03m# message to avoid confusion.\u001b[39;00m\n\u001b[1;32m    220\u001b[0m     msg \u001b[38;5;241m=\u001b[39m re\u001b[38;5;241m.\u001b[39msub(\n\u001b[1;32m    221\u001b[0m         \u001b[38;5;124mr\u001b[39m\u001b[38;5;124m\"\u001b[39m\u001b[38;5;124mparameter of \u001b[39m\u001b[38;5;124m\\\u001b[39m\u001b[38;5;124mw+ must be\u001b[39m\u001b[38;5;124m\"\u001b[39m,\n\u001b[1;32m    222\u001b[0m         \u001b[38;5;124mf\u001b[39m\u001b[38;5;124m\"\u001b[39m\u001b[38;5;124mparameter of \u001b[39m\u001b[38;5;132;01m{\u001b[39;00mfunc\u001b[38;5;241m.\u001b[39m\u001b[38;5;18m__qualname__\u001b[39m\u001b[38;5;132;01m}\u001b[39;00m\u001b[38;5;124m must be\u001b[39m\u001b[38;5;124m\"\u001b[39m,\n\u001b[1;32m    223\u001b[0m         \u001b[38;5;28mstr\u001b[39m(e),\n\u001b[1;32m    224\u001b[0m     )\n",
      "File \u001b[0;32m/opt/software/lib/python3.10/site-packages/sklearn/tree/_export.py:905\u001b[0m, in \u001b[0;36mexport_graphviz\u001b[0;34m(decision_tree, out_file, max_depth, feature_names, class_names, label, filled, leaves_parallel, impurity, node_ids, proportion, rotate, rounded, special_characters, precision, fontname)\u001b[0m\n\u001b[1;32m    886\u001b[0m     out_file \u001b[38;5;241m=\u001b[39m StringIO()\n\u001b[1;32m    888\u001b[0m exporter \u001b[38;5;241m=\u001b[39m _DOTTreeExporter(\n\u001b[1;32m    889\u001b[0m     out_file\u001b[38;5;241m=\u001b[39mout_file,\n\u001b[1;32m    890\u001b[0m     max_depth\u001b[38;5;241m=\u001b[39mmax_depth,\n\u001b[0;32m   (...)\u001b[0m\n\u001b[1;32m    903\u001b[0m     fontname\u001b[38;5;241m=\u001b[39mfontname,\n\u001b[1;32m    904\u001b[0m )\n\u001b[0;32m--> 905\u001b[0m \u001b[43mexporter\u001b[49m\u001b[38;5;241;43m.\u001b[39;49m\u001b[43mexport\u001b[49m\u001b[43m(\u001b[49m\u001b[43mdecision_tree\u001b[49m\u001b[43m)\u001b[49m\n\u001b[1;32m    907\u001b[0m \u001b[38;5;28;01mif\u001b[39;00m return_string:\n\u001b[1;32m    908\u001b[0m     \u001b[38;5;28;01mreturn\u001b[39;00m exporter\u001b[38;5;241m.\u001b[39mout_file\u001b[38;5;241m.\u001b[39mgetvalue()\n",
      "File \u001b[0;32m/opt/software/lib/python3.10/site-packages/sklearn/tree/_export.py:465\u001b[0m, in \u001b[0;36m_DOTTreeExporter.export\u001b[0;34m(self, decision_tree)\u001b[0m\n\u001b[1;32m    463\u001b[0m     \u001b[38;5;28mself\u001b[39m\u001b[38;5;241m.\u001b[39mrecurse(decision_tree, \u001b[38;5;241m0\u001b[39m, criterion\u001b[38;5;241m=\u001b[39m\u001b[38;5;124m\"\u001b[39m\u001b[38;5;124mimpurity\u001b[39m\u001b[38;5;124m\"\u001b[39m)\n\u001b[1;32m    464\u001b[0m \u001b[38;5;28;01melse\u001b[39;00m:\n\u001b[0;32m--> 465\u001b[0m     \u001b[38;5;28;43mself\u001b[39;49m\u001b[38;5;241;43m.\u001b[39;49m\u001b[43mrecurse\u001b[49m\u001b[43m(\u001b[49m\u001b[43mdecision_tree\u001b[49m\u001b[38;5;241;43m.\u001b[39;49m\u001b[43mtree_\u001b[49m\u001b[43m,\u001b[49m\u001b[43m \u001b[49m\u001b[38;5;241;43m0\u001b[39;49m\u001b[43m,\u001b[49m\u001b[43m \u001b[49m\u001b[43mcriterion\u001b[49m\u001b[38;5;241;43m=\u001b[39;49m\u001b[43mdecision_tree\u001b[49m\u001b[38;5;241;43m.\u001b[39;49m\u001b[43mcriterion\u001b[49m\u001b[43m)\u001b[49m\n\u001b[1;32m    467\u001b[0m \u001b[38;5;28mself\u001b[39m\u001b[38;5;241m.\u001b[39mtail()\n",
      "File \u001b[0;32m/opt/software/lib/python3.10/site-packages/sklearn/tree/_export.py:546\u001b[0m, in \u001b[0;36m_DOTTreeExporter.recurse\u001b[0;34m(self, tree, node_id, criterion, parent, depth)\u001b[0m\n\u001b[1;32m    543\u001b[0m         \u001b[38;5;28mself\u001b[39m\u001b[38;5;241m.\u001b[39mout_file\u001b[38;5;241m.\u001b[39mwrite(\u001b[38;5;124m\"\u001b[39m\u001b[38;5;124m ;\u001b[39m\u001b[38;5;130;01m\\n\u001b[39;00m\u001b[38;5;124m\"\u001b[39m)\n\u001b[1;32m    545\u001b[0m     \u001b[38;5;28;01mif\u001b[39;00m left_child \u001b[38;5;241m!=\u001b[39m _tree\u001b[38;5;241m.\u001b[39mTREE_LEAF:\n\u001b[0;32m--> 546\u001b[0m         \u001b[38;5;28;43mself\u001b[39;49m\u001b[38;5;241;43m.\u001b[39;49m\u001b[43mrecurse\u001b[49m\u001b[43m(\u001b[49m\n\u001b[1;32m    547\u001b[0m \u001b[43m            \u001b[49m\u001b[43mtree\u001b[49m\u001b[43m,\u001b[49m\n\u001b[1;32m    548\u001b[0m \u001b[43m            \u001b[49m\u001b[43mleft_child\u001b[49m\u001b[43m,\u001b[49m\n\u001b[1;32m    549\u001b[0m \u001b[43m            \u001b[49m\u001b[43mcriterion\u001b[49m\u001b[38;5;241;43m=\u001b[39;49m\u001b[43mcriterion\u001b[49m\u001b[43m,\u001b[49m\n\u001b[1;32m    550\u001b[0m \u001b[43m            \u001b[49m\u001b[43mparent\u001b[49m\u001b[38;5;241;43m=\u001b[39;49m\u001b[43mnode_id\u001b[49m\u001b[43m,\u001b[49m\n\u001b[1;32m    551\u001b[0m \u001b[43m            \u001b[49m\u001b[43mdepth\u001b[49m\u001b[38;5;241;43m=\u001b[39;49m\u001b[43mdepth\u001b[49m\u001b[43m \u001b[49m\u001b[38;5;241;43m+\u001b[39;49m\u001b[43m \u001b[49m\u001b[38;5;241;43m1\u001b[39;49m\u001b[43m,\u001b[49m\n\u001b[1;32m    552\u001b[0m \u001b[43m        \u001b[49m\u001b[43m)\u001b[49m\n\u001b[1;32m    553\u001b[0m         \u001b[38;5;28mself\u001b[39m\u001b[38;5;241m.\u001b[39mrecurse(\n\u001b[1;32m    554\u001b[0m             tree,\n\u001b[1;32m    555\u001b[0m             right_child,\n\u001b[0;32m   (...)\u001b[0m\n\u001b[1;32m    558\u001b[0m             depth\u001b[38;5;241m=\u001b[39mdepth \u001b[38;5;241m+\u001b[39m \u001b[38;5;241m1\u001b[39m,\n\u001b[1;32m    559\u001b[0m         )\n\u001b[1;32m    561\u001b[0m \u001b[38;5;28;01melse\u001b[39;00m:\n",
      "File \u001b[0;32m/opt/software/lib/python3.10/site-packages/sklearn/tree/_export.py:546\u001b[0m, in \u001b[0;36m_DOTTreeExporter.recurse\u001b[0;34m(self, tree, node_id, criterion, parent, depth)\u001b[0m\n\u001b[1;32m    543\u001b[0m         \u001b[38;5;28mself\u001b[39m\u001b[38;5;241m.\u001b[39mout_file\u001b[38;5;241m.\u001b[39mwrite(\u001b[38;5;124m\"\u001b[39m\u001b[38;5;124m ;\u001b[39m\u001b[38;5;130;01m\\n\u001b[39;00m\u001b[38;5;124m\"\u001b[39m)\n\u001b[1;32m    545\u001b[0m     \u001b[38;5;28;01mif\u001b[39;00m left_child \u001b[38;5;241m!=\u001b[39m _tree\u001b[38;5;241m.\u001b[39mTREE_LEAF:\n\u001b[0;32m--> 546\u001b[0m         \u001b[38;5;28;43mself\u001b[39;49m\u001b[38;5;241;43m.\u001b[39;49m\u001b[43mrecurse\u001b[49m\u001b[43m(\u001b[49m\n\u001b[1;32m    547\u001b[0m \u001b[43m            \u001b[49m\u001b[43mtree\u001b[49m\u001b[43m,\u001b[49m\n\u001b[1;32m    548\u001b[0m \u001b[43m            \u001b[49m\u001b[43mleft_child\u001b[49m\u001b[43m,\u001b[49m\n\u001b[1;32m    549\u001b[0m \u001b[43m            \u001b[49m\u001b[43mcriterion\u001b[49m\u001b[38;5;241;43m=\u001b[39;49m\u001b[43mcriterion\u001b[49m\u001b[43m,\u001b[49m\n\u001b[1;32m    550\u001b[0m \u001b[43m            \u001b[49m\u001b[43mparent\u001b[49m\u001b[38;5;241;43m=\u001b[39;49m\u001b[43mnode_id\u001b[49m\u001b[43m,\u001b[49m\n\u001b[1;32m    551\u001b[0m \u001b[43m            \u001b[49m\u001b[43mdepth\u001b[49m\u001b[38;5;241;43m=\u001b[39;49m\u001b[43mdepth\u001b[49m\u001b[43m \u001b[49m\u001b[38;5;241;43m+\u001b[39;49m\u001b[43m \u001b[49m\u001b[38;5;241;43m1\u001b[39;49m\u001b[43m,\u001b[49m\n\u001b[1;32m    552\u001b[0m \u001b[43m        \u001b[49m\u001b[43m)\u001b[49m\n\u001b[1;32m    553\u001b[0m         \u001b[38;5;28mself\u001b[39m\u001b[38;5;241m.\u001b[39mrecurse(\n\u001b[1;32m    554\u001b[0m             tree,\n\u001b[1;32m    555\u001b[0m             right_child,\n\u001b[0;32m   (...)\u001b[0m\n\u001b[1;32m    558\u001b[0m             depth\u001b[38;5;241m=\u001b[39mdepth \u001b[38;5;241m+\u001b[39m \u001b[38;5;241m1\u001b[39m,\n\u001b[1;32m    559\u001b[0m         )\n\u001b[1;32m    561\u001b[0m \u001b[38;5;28;01melse\u001b[39;00m:\n",
      "File \u001b[0;32m/opt/software/lib/python3.10/site-packages/sklearn/tree/_export.py:553\u001b[0m, in \u001b[0;36m_DOTTreeExporter.recurse\u001b[0;34m(self, tree, node_id, criterion, parent, depth)\u001b[0m\n\u001b[1;32m    545\u001b[0m     \u001b[38;5;28;01mif\u001b[39;00m left_child \u001b[38;5;241m!=\u001b[39m _tree\u001b[38;5;241m.\u001b[39mTREE_LEAF:\n\u001b[1;32m    546\u001b[0m         \u001b[38;5;28mself\u001b[39m\u001b[38;5;241m.\u001b[39mrecurse(\n\u001b[1;32m    547\u001b[0m             tree,\n\u001b[1;32m    548\u001b[0m             left_child,\n\u001b[0;32m   (...)\u001b[0m\n\u001b[1;32m    551\u001b[0m             depth\u001b[38;5;241m=\u001b[39mdepth \u001b[38;5;241m+\u001b[39m \u001b[38;5;241m1\u001b[39m,\n\u001b[1;32m    552\u001b[0m         )\n\u001b[0;32m--> 553\u001b[0m         \u001b[38;5;28;43mself\u001b[39;49m\u001b[38;5;241;43m.\u001b[39;49m\u001b[43mrecurse\u001b[49m\u001b[43m(\u001b[49m\n\u001b[1;32m    554\u001b[0m \u001b[43m            \u001b[49m\u001b[43mtree\u001b[49m\u001b[43m,\u001b[49m\n\u001b[1;32m    555\u001b[0m \u001b[43m            \u001b[49m\u001b[43mright_child\u001b[49m\u001b[43m,\u001b[49m\n\u001b[1;32m    556\u001b[0m \u001b[43m            \u001b[49m\u001b[43mcriterion\u001b[49m\u001b[38;5;241;43m=\u001b[39;49m\u001b[43mcriterion\u001b[49m\u001b[43m,\u001b[49m\n\u001b[1;32m    557\u001b[0m \u001b[43m            \u001b[49m\u001b[43mparent\u001b[49m\u001b[38;5;241;43m=\u001b[39;49m\u001b[43mnode_id\u001b[49m\u001b[43m,\u001b[49m\n\u001b[1;32m    558\u001b[0m \u001b[43m            \u001b[49m\u001b[43mdepth\u001b[49m\u001b[38;5;241;43m=\u001b[39;49m\u001b[43mdepth\u001b[49m\u001b[43m \u001b[49m\u001b[38;5;241;43m+\u001b[39;49m\u001b[43m \u001b[49m\u001b[38;5;241;43m1\u001b[39;49m\u001b[43m,\u001b[49m\n\u001b[1;32m    559\u001b[0m \u001b[43m        \u001b[49m\u001b[43m)\u001b[49m\n\u001b[1;32m    561\u001b[0m \u001b[38;5;28;01melse\u001b[39;00m:\n\u001b[1;32m    562\u001b[0m     \u001b[38;5;28mself\u001b[39m\u001b[38;5;241m.\u001b[39mranks[\u001b[38;5;124m\"\u001b[39m\u001b[38;5;124mleaves\u001b[39m\u001b[38;5;124m\"\u001b[39m]\u001b[38;5;241m.\u001b[39mappend(\u001b[38;5;28mstr\u001b[39m(node_id))\n",
      "File \u001b[0;32m/opt/software/lib/python3.10/site-packages/sklearn/tree/_export.py:523\u001b[0m, in \u001b[0;36m_DOTTreeExporter.recurse\u001b[0;34m(self, tree, node_id, criterion, parent, depth)\u001b[0m\n\u001b[1;32m    519\u001b[0m \u001b[38;5;28;01melse\u001b[39;00m:\n\u001b[1;32m    520\u001b[0m     \u001b[38;5;28mself\u001b[39m\u001b[38;5;241m.\u001b[39mranks[\u001b[38;5;28mstr\u001b[39m(depth)]\u001b[38;5;241m.\u001b[39mappend(\u001b[38;5;28mstr\u001b[39m(node_id))\n\u001b[1;32m    522\u001b[0m \u001b[38;5;28mself\u001b[39m\u001b[38;5;241m.\u001b[39mout_file\u001b[38;5;241m.\u001b[39mwrite(\n\u001b[0;32m--> 523\u001b[0m     \u001b[38;5;124m\"\u001b[39m\u001b[38;5;132;01m%d\u001b[39;00m\u001b[38;5;124m [label=\u001b[39m\u001b[38;5;132;01m%s\u001b[39;00m\u001b[38;5;124m\"\u001b[39m \u001b[38;5;241m%\u001b[39m (node_id, \u001b[38;5;28;43mself\u001b[39;49m\u001b[38;5;241;43m.\u001b[39;49m\u001b[43mnode_to_str\u001b[49m\u001b[43m(\u001b[49m\u001b[43mtree\u001b[49m\u001b[43m,\u001b[49m\u001b[43m \u001b[49m\u001b[43mnode_id\u001b[49m\u001b[43m,\u001b[49m\u001b[43m \u001b[49m\u001b[43mcriterion\u001b[49m\u001b[43m)\u001b[49m)\n\u001b[1;32m    524\u001b[0m )\n\u001b[1;32m    526\u001b[0m \u001b[38;5;28;01mif\u001b[39;00m \u001b[38;5;28mself\u001b[39m\u001b[38;5;241m.\u001b[39mfilled:\n\u001b[1;32m    527\u001b[0m     \u001b[38;5;28mself\u001b[39m\u001b[38;5;241m.\u001b[39mout_file\u001b[38;5;241m.\u001b[39mwrite(\n\u001b[1;32m    528\u001b[0m         \u001b[38;5;124m'\u001b[39m\u001b[38;5;124m, fillcolor=\u001b[39m\u001b[38;5;124m\"\u001b[39m\u001b[38;5;132;01m%s\u001b[39;00m\u001b[38;5;124m\"\u001b[39m\u001b[38;5;124m'\u001b[39m \u001b[38;5;241m%\u001b[39m \u001b[38;5;28mself\u001b[39m\u001b[38;5;241m.\u001b[39mget_fill_color(tree, node_id)\n\u001b[1;32m    529\u001b[0m     )\n",
      "File \u001b[0;32m/opt/software/lib/python3.10/site-packages/sklearn/tree/_export.py:385\u001b[0m, in \u001b[0;36m_BaseTreeExporter.node_to_str\u001b[0;34m(self, tree, node_id, criterion)\u001b[0m\n\u001b[1;32m    383\u001b[0m     node_string \u001b[38;5;241m+\u001b[39m\u001b[38;5;241m=\u001b[39m \u001b[38;5;124m\"\u001b[39m\u001b[38;5;124mclass = \u001b[39m\u001b[38;5;124m\"\u001b[39m\n\u001b[1;32m    384\u001b[0m \u001b[38;5;28;01mif\u001b[39;00m \u001b[38;5;28mself\u001b[39m\u001b[38;5;241m.\u001b[39mclass_names \u001b[38;5;129;01mis\u001b[39;00m \u001b[38;5;129;01mnot\u001b[39;00m \u001b[38;5;28;01mTrue\u001b[39;00m:\n\u001b[0;32m--> 385\u001b[0m     class_name \u001b[38;5;241m=\u001b[39m \u001b[38;5;28;43mself\u001b[39;49m\u001b[38;5;241;43m.\u001b[39;49m\u001b[43mclass_names\u001b[49m\u001b[43m[\u001b[49m\u001b[43mnp\u001b[49m\u001b[38;5;241;43m.\u001b[39;49m\u001b[43margmax\u001b[49m\u001b[43m(\u001b[49m\u001b[43mvalue\u001b[49m\u001b[43m)\u001b[49m\u001b[43m]\u001b[49m\n\u001b[1;32m    386\u001b[0m \u001b[38;5;28;01melse\u001b[39;00m:\n\u001b[1;32m    387\u001b[0m     class_name \u001b[38;5;241m=\u001b[39m \u001b[38;5;124m\"\u001b[39m\u001b[38;5;124my\u001b[39m\u001b[38;5;132;01m%s\u001b[39;00m\u001b[38;5;132;01m%s\u001b[39;00m\u001b[38;5;132;01m%s\u001b[39;00m\u001b[38;5;124m\"\u001b[39m \u001b[38;5;241m%\u001b[39m (\n\u001b[1;32m    388\u001b[0m         characters[\u001b[38;5;241m1\u001b[39m],\n\u001b[1;32m    389\u001b[0m         np\u001b[38;5;241m.\u001b[39margmax(value),\n\u001b[1;32m    390\u001b[0m         characters[\u001b[38;5;241m2\u001b[39m],\n\u001b[1;32m    391\u001b[0m     )\n",
      "\u001b[0;31mIndexError\u001b[0m: index 1 is out of bounds for axis 0 with size 1"
     ]
    }
   ],
   "source": [
    "estimator = rfc.estimators_[5]\n",
    "\n",
    "from sklearn.tree import export_graphviz\n",
    "\n",
    "# Convert to png using system command (requires Graphviz)\n",
    "from subprocess import call\n",
    "call(['dot', '-Tpng', 'tree.dot', '-o', 'tree.png', '-Gdpi=600'])\n",
    "\n",
    "# Display in jupyter notebook\n",
    "from IPython.display import Image\n",
    "Image(filename = 'tree.png')"
   ]
  },
  {
   "cell_type": "code",
   "execution_count": null,
   "id": "03a7cf0b-aba8-4172-b194-f7da7093ffde",
   "metadata": {
    "tags": []
   },
   "outputs": [],
   "source": []
  },
  {
   "cell_type": "markdown",
   "id": "3a3494e0-dcff-49f9-b49f-6ea38049be82",
   "metadata": {},
   "source": [
    "# Testing parameters to better the model"
   ]
  },
  {
   "cell_type": "code",
   "execution_count": null,
   "id": "b62e648f-4176-469d-b4f1-d1f8ec0ee411",
   "metadata": {
    "tags": []
   },
   "outputs": [],
   "source": [
    "for i in ['sqrt', 'log2']:\n",
    "    rfc = RandomForestClassifier(n_estimators=100, random_state=42, max_features=i)\n",
    "    rfc.fit(x_train, y_train)\n",
    "\n",
    "    y_pred = rfc.predict(x_test)\n",
    "\n",
    "    accuracy = accuracy_score(y_test, y_pred)\n",
    "    print(f\"Prediction accuracy: {100*accuracy:.2f}%\")\n",
    "    classification_rep = classification_report(y_test, y_pred)\n",
    "    print(classification_rep)"
   ]
  },
  {
   "cell_type": "code",
   "execution_count": null,
   "id": "f4e1ef01-6bcf-4513-a028-6b042f0b14b8",
   "metadata": {
    "tags": []
   },
   "outputs": [],
   "source": [
    "for i in [20, 50, 100]:\n",
    "    rfc = RandomForestClassifier(n_estimators=i, random_state=42)\n",
    "    rfc.fit(x_train, y_train)\n",
    "\n",
    "    y_pred = rfc.predict(x_test)\n",
    "\n",
    "    accuracy = accuracy_score(y_test, y_pred)\n",
    "    print(f\"Prediction accuracy: {100*accuracy:.2f}%\")\n",
    "    classification_rep = classification_report(y_test, y_pred)\n",
    "    print(classification_rep)"
   ]
  },
  {
   "cell_type": "code",
   "execution_count": null,
   "id": "6aab37c7-7a2f-4338-9e95-b0cbb81e4364",
   "metadata": {},
   "outputs": [],
   "source": []
  }
 ],
 "metadata": {
  "kernelspec": {
   "display_name": "Python 3",
   "language": "python",
   "name": "python3"
  },
  "language_info": {
   "codemirror_mode": {
    "name": "ipython",
    "version": 3
   },
   "file_extension": ".py",
   "mimetype": "text/x-python",
   "name": "python",
   "nbconvert_exporter": "python",
   "pygments_lexer": "ipython3",
   "version": "3.12.1"
  }
 },
 "nbformat": 4,
 "nbformat_minor": 5
}
